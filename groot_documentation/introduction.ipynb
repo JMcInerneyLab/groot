{
 "cells": [
  {
   "cell_type": "markdown",
   "metadata": {
    "collapsed": true
   },
   "source": [
    "### Getting started ###\n",
    "\n",
    "For this tutorial we will be using Groot in Jupyter notebook mode (PYI), because it's easy to explain. Using Groot through the Python interactive shell is the same.\n",
    "\n",
    "Normally, to start Groot in PYI mode you'd type `groot pyi` from the terminal. The following lines just do the same for this Jupyter notebook. Execute them now and don't worry about them too much!"
   ]
  },
  {
   "cell_type": "code",
   "execution_count": 1,
   "metadata": {},
   "outputs": [
    {
     "name": "stdout",
     "output_type": "stream",
     "text": [
      "😁\r",
      " \r"
     ]
    },
    {
     "name": "stderr",
     "output_type": "stream",
     "text": [
      "INF SYS █████████████████████████████████████████████████████████████████████████████████████████████████▖\n",
      "        █████████████████████████████████████████ GROOT ████████████████████████████████████████ 0.0.0.23 █▖\n",
      "        ███████████████████████████████████████████████████████████████████████████████████████████████████▖\n",
      "        GROOT/JUPYTER. Use help() for help and cmdlist() to view commands.                                  \n",
      "        The current workspace is '/Users/martinrusilowicz/.intermake-data/groot'                            \n",
      "        This application is in development; not all features may work correctly and the API may change.     \n"
     ]
    }
   ],
   "source": [
    "import groot\n",
    "groot.run_jupyter()"
   ]
  },
  {
   "cell_type": "markdown",
   "metadata": {},
   "source": [
    "Now we're in Gʀᴏᴏᴛ, we can use `help()` for help."
   ]
  },
  {
   "cell_type": "code",
   "execution_count": 2,
   "metadata": {},
   "outputs": [
    {
     "name": "stderr",
     "output_type": "stream",
     "text": [
      "ECO help\n",
      "    basic_help\n",
      "INF   _basic_help_________________________________________________________________________________________________________________________________________________________________________\n",
      "      Aliases: \n",
      "        \n",
      "        Welcome to groot. You are in Jupyter interactive (PYI) mode.\n",
      "        \n",
      "        Run the cmdlist function to get the list of groot features.\n",
      "        \n",
      "            cmdlist()\n",
      "        \n",
      "        The groot commands have already been imported, for instance to run groot's eggs command:\n",
      "        \n",
      "            eggs()\n",
      "        \n",
      "        The groot's commands have been imported as objects, so you can use .help() for help:\n",
      "        \n",
      "            eggs.help()\n",
      "        \n",
      "        See that eggs takes two arguments, name and good.\n",
      "        \n",
      "        You can specify arguments like so:\n",
      "        \n",
      "            eggs(\"Humpty\", True)\n",
      "        \n",
      "        Or you can name them:\n",
      "        \n",
      "            eggs(name = \"Humpty\", good = True)\n",
      "        \n",
      "        \n",
      "        -------------------- 2 HELP TOPICS --------------------\n",
      "        Use one of the following commands for more help on specific topics:\n",
      "        basic_help\n",
      "        print_trees_help\n",
      "    \n"
     ]
    }
   ],
   "source": [
    "help()"
   ]
  },
  {
   "cell_type": "code",
   "execution_count": null,
   "metadata": {},
   "outputs": [],
   "source": [
    "MENV.host.run_mode"
   ]
  },
  {
   "cell_type": "code",
   "execution_count": null,
   "metadata": {},
   "outputs": [],
   "source": [
    "from intermake import MENV"
   ]
  },
  {
   "cell_type": "code",
   "execution_count": null,
   "metadata": {},
   "outputs": [],
   "source": []
  }
 ],
 "metadata": {
  "kernelspec": {
   "display_name": "Python 3",
   "language": "python",
   "name": "python3"
  },
  "language_info": {
   "codemirror_mode": {
    "name": "ipython",
    "version": 3
   },
   "file_extension": ".py",
   "mimetype": "text/x-python",
   "name": "python",
   "nbconvert_exporter": "python",
   "pygments_lexer": "ipython3",
   "version": "3.6.3"
  }
 },
 "nbformat": 4,
 "nbformat_minor": 1
}
